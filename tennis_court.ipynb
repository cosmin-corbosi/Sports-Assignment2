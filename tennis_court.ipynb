{
 "cells": [
  {
   "cell_type": "code",
   "execution_count": 1,
   "id": "ff44185e",
   "metadata": {},
   "outputs": [],
   "source": [
    "%load_ext autoreload\n",
    "%autoreload 2\n",
    "\n",
    "import pandas as pd\n",
    "pd.set_option(\"display.max_rows\", 101)\n",
    "pd.set_option(\"display.max_columns\", 101)\n",
    "\n",
    "import matplotlib.pyplot as plt"
   ]
  },
  {
   "cell_type": "code",
   "execution_count": 2,
   "id": "12e9b89f",
   "metadata": {},
   "outputs": [],
   "source": [
    "# create list of rectangles\n",
    "rectangles = []\n",
    "for n in range(10):\n",
    "    rectangles.append([\n",
    "        # field area\n",
    "        plt.Rectangle((-16, -7), width=32, height=14, color=\"#BE735A\"),\n",
    "        \n",
    "        # court\n",
    "        plt.Rectangle((-11.885, -5.485), width=23.77, height=10.97, facecolor=\"#D79B8C\", edgecolor=\"white\", linewidth=0.5)\n",
    "    ])\n",
    "\n",
    "# create list of lines\n",
    "lines = []\n",
    "for n in range(10):\n",
    "    lines.append([\n",
    "        # singles sidelines\n",
    "        plt.Line2D((-11.885, 11.885), (-4.115, -4.115), color=\"white\", linewidth=0.5),\n",
    "        plt.Line2D((-11.885, 11.885), (4.115, 4.115), color=\"white\", linewidth=0.5),\n",
    "        \n",
    "        # center service line\n",
    "        plt.Line2D((-6.4, 6.4), (0, 0), color=\"white\", linewidth=0.5),\n",
    "        \n",
    "        # service lines\n",
    "        plt.Line2D((-6.4, -6.4), (-4.115, 4.115), color=\"white\", linewidth=0.5),\n",
    "        plt.Line2D((6.4, 6.4), (-4.115, 4.115), color=\"white\", linewidth=0.5),\n",
    "        \n",
    "        # net\n",
    "        plt.Line2D((0, 0), (-6.395, 6.395), color=\"white\", linewidth=1.2),\n",
    "        \n",
    "        # centre marks (no official length?)\n",
    "        plt.Line2D((-11.885, -11.585), (0, 0), color=\"white\", linewidth=0.5),\n",
    "        plt.Line2D((11.585, 11.885), (0, 0), color=\"white\", linewidth=0.5)\n",
    "    ])\n",
    "    \n",
    "# is there something like a \"isRectangle()\" or \"isLine()\" function in matplotlib?\n",
    "# if so, I can put everything in a single list and use an if statement in one loop below\""
   ]
  },
  {
   "cell_type": "code",
   "execution_count": 3,
   "id": "9063a4f2",
   "metadata": {},
   "outputs": [
    {
     "data": {
      "image/png": "[encoded data removed]",
      "text/plain": [
       "<Figure size 640x480 with 1 Axes>"
      ]
     },
     "metadata": {},
     "output_type": "display_data"
    }
   ],
   "source": [
    "ax = plt.gca()\n",
    "\n",
    "# add rectangles to axes\n",
    "for shape in rectangles:\n",
    "    # not entirely sure about the logic behind why we need nested loops here?\n",
    "    for rectangle in shape:\n",
    "        ax.add_patch(rectangle)\n",
    "\n",
    "# add lines to axes\n",
    "for shape in lines:\n",
    "    for line in shape:\n",
    "        ax.add_line(line)\n",
    "    \n",
    "plt.axis(\"scaled\")\n",
    "\n",
    "plt.savefig(\"tennis_court.png\", bbox_inches=\"tight\")\n",
    "\n",
    "plt.show()"
   ]
  },
  {
   "cell_type": "code",
   "execution_count": 4,
   "id": "5c80424b",
   "metadata": {},
   "outputs": [],
   "source": [
    "# so is the best way to account for shape padding/linewidths alligning properly to just make them all 0.5?\n",
    "\n",
    "# don't think that modules were needed for all this; will keep them in mind for later assignments"
   ]
  },
  {
   "cell_type": "code",
   "execution_count": null,
   "id": "5102c645",
   "metadata": {},
   "outputs": [],
   "source": []
  }
 ],
 "metadata": {
  "kernelspec": {
   "display_name": "Python 3 (ipykernel)",
   "language": "python",
   "name": "python3"
  },
  "language_info": {
   "codemirror_mode": {
    "name": "ipython",
    "version": 3
   },
   "file_extension": ".py",
   "mimetype": "text/x-python",
   "name": "python",
   "nbconvert_exporter": "python",
   "pygments_lexer": "ipython3",
   "version": "3.9.13"
  }
 },
 "nbformat": 4,
 "nbformat_minor": 5
}
